{
 "cells": [
  {
   "cell_type": "markdown",
   "metadata": {},
   "source": [
    "# Genomic analysis of Salmonella Typhimurium\n",
    "\n",
    "For this analysis project, you will use the all the skills acquired from earlier in the week to map the sequnce data of 25 isolates of Salmonella Typhimurium to the reference sequence strain construct a phylogenetic tree. You will use the software FigTree to view and interpret your phylogeny and also use Microreact to visualise location data and develop your own hypotheses about the pathogen distribution. In addition, you will use the software ARIBA (Antibiotic Resistance Identification By Assembly) to investigate resistance genes in these strains and a free visualisation tool, Phandango to compare with the pathogen distribution observed in your tree. You will also prepare a short 5 mins presentation describing the analysis approach and your key findings."
   ]
  },
  {
   "cell_type": "markdown",
   "metadata": {},
   "source": [
    "# Learning outcomes:\n",
    "On completion of the assignment, you can expect to have acquired the skills to:\n",
    "\n",
    "* Build and interpret phylogenetic trees from Whole Genome Sequence (WGS) data of bacterial samples\n",
    "* Show how WGS can be used to describe the evolution and distribution of a pathogen across a geographical area\n",
    "* Combine phylogenetic analysis and AMR results\n",
    "* Present the results of WGS data analysis"
   ]
  },
  {
   "cell_type": "markdown",
   "metadata": {},
   "source": [
    "# Introducing the dataset\n",
    "Salmonella enterica is a diverse bacterial species that can cause disease in both human and animals. Human infections caused by Salmonella can be divided into two, typhoidal Salmonella or non-typhoidal Salmonella (NTS). The former include Typhi and Paratyphi serovars that cause typhoid. NTS comprises of multiple serovars that cause self-limiting gastroenteritis in humans and is normally associated with zoonotic Salmonella reservoirs, typically domesticated animals, with little or no sustained human-to-human transmission.\n",
    "\n",
    "Salmonella enterica serovar Typhimurium (S. Typhimurium), unlike the classical views of NTS, can cause an invasive form of NTS (iNTS), with distinct clinical representations to typhoid and gastroenteritis and normally characterized by a nonspecific fever that can be indistinguishable from malaria and in rare cases is accompanied by diarrhoea.\n",
    "\n",
    "You have been provided with sequence data for 25 S. Typhimurium isolates collected from regional labs in England and Wales throughout 2022. Whole genome sequence analysis of this organism can provide some insight into the short-term microevolution of S. Typhimurium. Understanding the level of diversity in this time-period is crucial in attempting to identify if this is an outbreak or sporadic infection.\n",
    "\n",
    "To download the data that you need for this asignment:"
   ]
  },
  {
   "cell_type": "code",
   "execution_count": null,
   "metadata": {},
   "outputs": [],
   "source": [
    "cd ~/course_data/group_projects/data/project1\n",
    "git pull"
   ]
  },
  {
   "cell_type": "markdown",
   "metadata": {},
   "source": [
    "This will download the following files:\n",
    "\n",
    "* A reference genome (FASTA) for S. Typhimurium SL1344 found in the `ref` directory.\n",
    "* Sequence data (FASTQ files) for 6 of the 25 samples. These are in the `fastq` folder.\n",
    "* A `pseudogenomes` directory containing pseudogenomes for 19 of the 26 samples, you will need to generate pseudogenomes for the remaining isolates.\n",
    "* A metadata table (`metadata.xls`) which contains information on the isolates including the date and location of collection and to save time we have prepared a `metadata_microreact.csv` file compatible with Microreact.\n",
    "* An `ariba_results` folder that contains the resistance reports from ARIBA for 19 of the 26 samples. You will need to run ARIBA on the remaining samples and combine the reports into a summary report.\n",
    "* A summary of the phenotypic data (`phenotype_data.csv`) from the lab.\n",
    "\n",
    "The download may take some time so read ahead and make a plan for your analysis."
   ]
  },
  {
   "cell_type": "markdown",
   "metadata": {},
   "source": [
    "# Tasks\n",
    "You will need to generate a whole-genome sequencing based tree for the isolates and correlate this to the geography of the country. You will also need to look into the distribution of antimicrobial resistance and investigate the genetic basis for the resistance phenotype identified in the laboratory.\n",
    "\n",
    "Therfore, you will need to complete the following tasks:\n",
    "\n",
    "* QC - QC your sequence data (30 mins)\n",
    "* Phylogenetic analysis - SNP-calling and phylogenetic inference (1hr)\n",
    "* Antimicrobial resistance screening - ARIBA and Phandango (1hr)\n",
    "* Data visualisation with Microreact (30 mins)\n",
    "* Preparation of presentation (30 mins)\n",
    "* Group presentations (30 mins)\n",
    "\n",
    "There is a lot to do here, so you may want to divide up the tasks among the group. For example, you could split into smaller groups and assign subsets of the data to each sub-group or assign different tasks to each subgroup. The choice is yours, just ensure that each of the sub-groups continues to communicate with each other during the task!"
   ]
  },
  {
   "cell_type": "markdown",
   "metadata": {},
   "source": [
    "## Task 1: Sequence QC\n",
    "In this task you will QC the sequence data for all 25 _Salmonella typhimurium_ isolates.\n",
    "\n",
    "![FastQC](img/fastqc.png \"FastQC\")\n",
    "\n",
    "### Analysis Steps\n",
    "\n",
    "Bioinformatic processing of data into biologically-meaningful outputs is often a multi stage process. Just like working in the laboratory, it’s useful to break this process down into individual steps and have a plan before you start the analysis.\n",
    "\n",
    "* __Step 1__. Set up a directory for the QC analysis\n",
    "* __Step 2__. Use FastQC to QC the sequence data for each isolate\n",
    "* __Step 3__. Gather together all the FastQC reports into a single QC report\n",
    "* __Step 4__. Run bactinspector on all the isolates to determine the species\n",
    "* __Step 5__. Assess the QC results and remove any isolates that do not pass your QC threshold from further analysis\n",
    "* __Step 6__. Summarise your findings (text and screenshots) for inclusion in your presentation\n",
    "\n",
    "### Software Tools\n",
    "The recommended software to use in this task are:\n",
    "\n",
    "* FastQC\n",
    "* MultiQC\n",
    "* Bactinspector \n",
    "\n",
    "There is a conda environment called `qc` that contains these tools. To activate it use:\n",
    "\n",
    "`conda activate qc`\n",
    "\n",
    "### Questions\n",
    "The questions you want to ask of the data are:\n",
    "\n",
    "* What is the yield and sequencing depth for each isolate and is it adequate?\n",
    "* Is the sequencing quality adequate for each of the isolates?\n",
    "* Are all the isolates the species that you expect?"
   ]
  },
  {
   "cell_type": "markdown",
   "metadata": {},
   "source": [
    "## Task 2: Phylogenetic analysis\n",
    "In this task you will map the sequence data to the _Salmonella enterica Typhimurium SL1344_ reference genome, call SNPs and build a phylogenetic tree from the SNP data.\n",
    "\n",
    "### Analysis Steps\n",
    "A rough guide of the steps involved in this task is below. Check that you understand the principles of each one and then get started:\n",
    "\n",
    "* __Step 1__. Set up a directory for the phylogenetic analysis\n",
    "* __Step 2__. Map, call SNPs and create pseudogenomes for each isolate\n",
    "* __Step 3__. Create a whole genome sequence alignment fusing all the pseudogenomes\n",
    "* __Step 4__. Identify the SNPs in the pseudogenome alignment\n",
    "* __Step 5__. Build a phylogenetic tree\n",
    "* __Step 6__. Root the tree\n",
    "* __Step 7__. Interpret your phylogeny \n",
    "* __Step 8__. Summarise your findings (text and screenshots) for inclusion in your presentation"
   ]
  },
  {
   "cell_type": "markdown",
   "metadata": {},
   "source": [
    "### Software Tools\n",
    "The recommended software to use in this task are:\n",
    "\n",
    "* Bactmap nextflow pipeline\n",
    "* assembly-stats\n",
    "* snp-sites\n",
    "* iqtree\n",
    "* FigTree\n",
    "\n",
    "The conda environments that contain the required software are `nextflow-pipelines` and `snp-phylogeny`.\n",
    "\n",
    "### Questions\n",
    "Look at your phylogenetic tree in Figtree, take some time to make some general observations:\n",
    "\n",
    "* Are there distinct clades present in the isolates?\n",
    "* Are there isolates that do not cluster with other isolates?\n",
    "\n",
    "A picture of your tree as well as your general observations about it should go into your group presentation. Take some time to make figure(s) you are happy with and create a PDF picture file by selecting `File > export PDF`.\n",
    "\n",
    "![Phylogenetic tree of isolates](img/tree.png \"Phylogenetic tree of isolates\")"
   ]
  },
  {
   "cell_type": "markdown",
   "metadata": {},
   "source": [
    "## Task 3: Antimicrobial resistance screening\n",
    "In this task you will screen your isolates for antimicrobial resistance (AMR) genes using ARIBA and the CARD database.\n",
    "\n",
    "### Analysis Steps\n",
    "* __Step 1.__ Set up a directory for the AMR analysis\n",
    "* __Step 2.__ Download and prepare the CARD database for use with ARIBA\n",
    "* __Step 3.__ Run ARIBA on your isolates\n",
    "* __Step 4.__ Summarise all the ARIBA results into one report\n",
    "* __Step 5.__ Visualise the outputs in Phandango\n",
    "* __Step 6.__ Compare resistance genes found with your phenotypic data\n",
    "* __Step 7.__ Summarise your findings (text and screenshots) for inclusion in your presentation\n",
    "\n",
    "### Software Tools\n",
    "The recommended software to use in this task are:\n",
    "\n",
    "* CARD database\n",
    "* ARIBA\n",
    "* Phandango\n",
    "\n",
    "The conda environment that contain the required software is `ariba-2.14.6`"
   ]
  },
  {
   "cell_type": "markdown",
   "metadata": {},
   "source": [
    "### Questions\n",
    "Open the `all_results.summary.phandango.tre` and `all_results.summary.phandango.csv` produced by ARIBA in Phandago. On the left hand side is a dendogram of the phylogenetic relationship of the resistance data and the isolates. On the top panel are the matching resistance genes found. The green colour indicates positive match and salmon pink is a negative match.\n",
    "\n",
    "![AMR results in Phandango](img/phandango.png \"AMR results in Phandango\")\n",
    "\n",
    "Consult the CARD database for the resistance phenotype of the genes detected. Note that underscores (\\_) in the output data denotes prime (‘) or bracket, therefore AAC_3_-II is AAC(3)-II. The codes for these are in a file named `01.filter.check_metadata.tsv` produced when you prepared your database. Consult the `report.tsv` of the particular sample of interest for the gene names. You can open both .tsv files in excel.\n",
    "\n",
    "Some general points to consider when summarizing your finding for antimicrobial resistance (AMR) screen.\n",
    "\n",
    "* Does the presence of the gene correlate well with the phenotypic results?\n",
    "* Is it the same in multiple isolates that share the resistance?\n",
    "\n",
    "To help you in your discussions, summarized in the table below are the most frequently observed antimicrobial resistance patterns of S. Typhimurium strains between 1996 and 2016 taken from Wang et al., 2019 (PMID: 311340204).\n",
    "\n",
    "Below are genes found in your* isolates that confer resistance to some of the antibiotics below. Can you match isolates to any of the patterns listed? Ampicillin (A): aac, aph. Chlorampheniol/Florfenicol (C): cmlA, floR. Streptmycin (S): aadA2. Sulfonamide (Su): sul2 and sul3. Tetracycline (T): tet.\n",
    "\n",
    "\\*Multiple genes can confer resistance to the same class of antimicrobials.\n",
    "\n",
    "![AMR Resistance Patterns](img/gene_table.png \"AMR results in Phandango\")"
   ]
  },
  {
   "cell_type": "markdown",
   "metadata": {},
   "source": [
    "## Task 4: Data visualisation with Microreact\n",
    "Use Microreact to visualize and explore your tree and metadata. Microreact enables you to visualize phylogenetic relationships of isolates linked to geographic locations. You can also display other information you find useful and to do so, you need only format your metadata table. To save time we have prepared a metadata table compatible with microreact and it is called `microreact_metadata.csv`. It contains latitude and longitude values for location, date of collection and some selected amr results from the ARIBA analysis. The different metadata fields have also been assigned a colour code that will be interpreted by Microreact. Take a look at this file.\n",
    "\n",
    "![Microreact](img/microreact.png \"Microreact\")\n",
    "\n",
    "### Location information\n",
    "There are plenty of ways to generate latitude and longitude coordinates (e.g. using a simple search on google) for locations, however with multiple samples, it is easier to submit this in batches. You can use a toll called Data-flo, which allows you to paste the name your locations, returns a list of geographic coordinates. To save time, we have already generated these coordinates for the locations and included them in the metadata file.\n",
    "\n",
    "### Creating a project in Microreact\n",
    "You will need the NEWICK (.nwk) file from your phylogenetic analysis and the .csv metadata file mentioned above. Create a new project in Microreact by dragging and dropping them into the browser on the Microreact page. Create a map by selecting the edit icon in the right hand corner and selecting 'Create New Map'.\n",
    "\n",
    "![Data in microreact](img/microreact-data.png \"Data in microreact\")\n",
    "\n",
    "The resulting map and tree enables you to query your data. Notice we have assigned colour to the samples resistant or sensitive to aminoglycosides encoded by aadA2, but you can choose to group the samples however you want. For example, you can include other antimicrobial resistance information. All you will have to do is add the resistance gene data from the ariba results."
   ]
  },
  {
   "cell_type": "markdown",
   "metadata": {},
   "source": [
    "## Task 5: Summarise your findings for the presentation\n",
    "Create a short 5 mins presentation summarising your findings. A suggested outline for the presemtations is:\n",
    "\n",
    "* Title slide (include your group name and individual names)\n",
    "* Aims of the project\n",
    "* Summary of the data\n",
    "* Methods for each task (how you analysed your data)\n",
    "* Results from each task (use lots of screenshots!)\n",
    "* Findings and conclusions\n",
    "\n",
    "Some things to consider when you are interpreting your results, look at the distribution of your isolates across the country when coloured by:\n",
    "\n",
    "### Clade\n",
    "\n",
    "* How many clades are there?\n",
    "* How are the isolates distributed?\n",
    "* Are there any patterns you can see to the distribution?\n",
    "* What factors might be driving the distribution?\n",
    "\n",
    "### Antimicrobial resistances\n",
    "\n",
    "* Are there patterns to any of the resistances?\n",
    "* And is this related to clades?\n",
    "* Are there any genes that confer resistance to antimicrobials used to treat Salmonella cases?\n",
    "\n",
    "Decide among the group who will present each slide, if possible we would like to see everyone from the group present at least one slide each."
   ]
  },
  {
   "cell_type": "markdown",
   "metadata": {},
   "source": [
    "__DISCLAIMER:__ All the locations and dates of the Salmonella isolates are fictitious and solely for educational purposes."
   ]
  }
 ],
 "metadata": {
  "kernelspec": {
   "display_name": "Bash",
   "language": "bash",
   "name": "bash"
  },
  "language_info": {
   "codemirror_mode": "shell",
   "file_extension": ".sh",
   "mimetype": "text/x-sh",
   "name": "bash"
  }
 },
 "nbformat": 4,
 "nbformat_minor": 2
}
